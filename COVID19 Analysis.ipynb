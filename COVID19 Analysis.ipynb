{
 "cells": [
  {
   "cell_type": "markdown",
   "metadata": {},
   "source": [
    "# COVID-19 NIH DATA ANALYSIS"
   ]
  },
  {
   "cell_type": "markdown",
   "metadata": {},
   "source": [
    "This is a simple Notebook that extracts the data https://github.com/CSSEGISandData/COVID-19 and uses Pandas, numpy and scipy to model the time series. I have played around with different fitting and optimization techniques but finally based on validation using Nelder-Mead and Emmanuelle Le Nagard and Alexandre Steyer on innovation diffusion. "
   ]
  },
  {
   "cell_type": "code",
   "execution_count": 146,
   "metadata": {},
   "outputs": [],
   "source": [
    "# import libraries\n",
    "import pandas as pd\n",
    "import numpy as np\n",
    "import seaborn as sns\n",
    "from matplotlib import pyplot as plt"
   ]
  },
  {
   "cell_type": "code",
   "execution_count": 149,
   "metadata": {},
   "outputs": [
    {
     "data": {
      "text/html": [
       "<div>\n",
       "<style scoped>\n",
       "    .dataframe tbody tr th:only-of-type {\n",
       "        vertical-align: middle;\n",
       "    }\n",
       "\n",
       "    .dataframe tbody tr th {\n",
       "        vertical-align: top;\n",
       "    }\n",
       "\n",
       "    .dataframe thead th {\n",
       "        text-align: right;\n",
       "    }\n",
       "</style>\n",
       "<table border=\"1\" class=\"dataframe\">\n",
       "  <thead>\n",
       "    <tr style=\"text-align: right;\">\n",
       "      <th></th>\n",
       "      <th>SNo</th>\n",
       "      <th>Date</th>\n",
       "      <th>Province/State</th>\n",
       "      <th>Country</th>\n",
       "      <th>Last Update</th>\n",
       "      <th>Confirmed</th>\n",
       "      <th>Deaths</th>\n",
       "      <th>Recovered</th>\n",
       "    </tr>\n",
       "  </thead>\n",
       "  <tbody>\n",
       "    <tr>\n",
       "      <th>6717</th>\n",
       "      <td>6718</td>\n",
       "      <td>03/18/2020</td>\n",
       "      <td>NaN</td>\n",
       "      <td>Guernsey</td>\n",
       "      <td>2020-03-17 18:33:03</td>\n",
       "      <td>0.0</td>\n",
       "      <td>0.0</td>\n",
       "      <td>0.0</td>\n",
       "    </tr>\n",
       "    <tr>\n",
       "      <th>6718</th>\n",
       "      <td>6719</td>\n",
       "      <td>03/18/2020</td>\n",
       "      <td>NaN</td>\n",
       "      <td>Jersey</td>\n",
       "      <td>2020-03-17 18:33:03</td>\n",
       "      <td>0.0</td>\n",
       "      <td>0.0</td>\n",
       "      <td>0.0</td>\n",
       "    </tr>\n",
       "    <tr>\n",
       "      <th>6719</th>\n",
       "      <td>6720</td>\n",
       "      <td>03/18/2020</td>\n",
       "      <td>NaN</td>\n",
       "      <td>Puerto Rico</td>\n",
       "      <td>2020-03-17 16:13:14</td>\n",
       "      <td>0.0</td>\n",
       "      <td>0.0</td>\n",
       "      <td>0.0</td>\n",
       "    </tr>\n",
       "    <tr>\n",
       "      <th>6720</th>\n",
       "      <td>6721</td>\n",
       "      <td>03/18/2020</td>\n",
       "      <td>NaN</td>\n",
       "      <td>Republic of the Congo</td>\n",
       "      <td>2020-03-17 21:33:03</td>\n",
       "      <td>0.0</td>\n",
       "      <td>0.0</td>\n",
       "      <td>0.0</td>\n",
       "    </tr>\n",
       "    <tr>\n",
       "      <th>6721</th>\n",
       "      <td>6722</td>\n",
       "      <td>03/18/2020</td>\n",
       "      <td>NaN</td>\n",
       "      <td>The Gambia</td>\n",
       "      <td>2020-03-18 14:13:56</td>\n",
       "      <td>0.0</td>\n",
       "      <td>0.0</td>\n",
       "      <td>0.0</td>\n",
       "    </tr>\n",
       "  </tbody>\n",
       "</table>\n",
       "</div>"
      ],
      "text/plain": [
       "       SNo        Date Province/State                Country  \\\n",
       "6717  6718  03/18/2020            NaN               Guernsey   \n",
       "6718  6719  03/18/2020            NaN                 Jersey   \n",
       "6719  6720  03/18/2020            NaN            Puerto Rico   \n",
       "6720  6721  03/18/2020            NaN  Republic of the Congo   \n",
       "6721  6722  03/18/2020            NaN             The Gambia   \n",
       "\n",
       "             Last Update  Confirmed  Deaths  Recovered  \n",
       "6717 2020-03-17 18:33:03        0.0     0.0        0.0  \n",
       "6718 2020-03-17 18:33:03        0.0     0.0        0.0  \n",
       "6719 2020-03-17 16:13:14        0.0     0.0        0.0  \n",
       "6720 2020-03-17 21:33:03        0.0     0.0        0.0  \n",
       "6721 2020-03-18 14:13:56        0.0     0.0        0.0  "
      ]
     },
     "execution_count": 149,
     "metadata": {},
     "output_type": "execute_result"
    }
   ],
   "source": [
    "# Reading Data\n",
    "data=pd.read_csv('./COVID-19/COVID-19/covid_19_data.csv' ,parse_dates=['Last Update'])\n",
    "data.rename(columns={'ObservationDate':'Date', 'Country/Region':'Country'}, inplace=True)\n",
    "\n",
    "# latest Cases\n",
    "data.tail()"
   ]
  },
  {
   "cell_type": "code",
   "execution_count": 150,
   "metadata": {},
   "outputs": [
    {
     "name": "stdout",
     "output_type": "stream",
     "text": [
      "Country==\"US\"\n"
     ]
    }
   ],
   "source": [
    "country = \"US\"\n",
    "query = \"Country==\\\"\" + country + \"\\\"\"\n",
    "print(query)"
   ]
  },
  {
   "cell_type": "code",
   "execution_count": 151,
   "metadata": {},
   "outputs": [
    {
     "data": {
      "text/html": [
       "<div>\n",
       "<style scoped>\n",
       "    .dataframe tbody tr th:only-of-type {\n",
       "        vertical-align: middle;\n",
       "    }\n",
       "\n",
       "    .dataframe tbody tr th {\n",
       "        vertical-align: top;\n",
       "    }\n",
       "\n",
       "    .dataframe thead th {\n",
       "        text-align: right;\n",
       "    }\n",
       "</style>\n",
       "<table border=\"1\" class=\"dataframe\">\n",
       "  <thead>\n",
       "    <tr style=\"text-align: right;\">\n",
       "      <th></th>\n",
       "      <th>Date</th>\n",
       "      <th>Confirmed US</th>\n",
       "    </tr>\n",
       "  </thead>\n",
       "  <tbody>\n",
       "    <tr>\n",
       "      <th>47</th>\n",
       "      <td>03/09/2020</td>\n",
       "      <td>605.0</td>\n",
       "    </tr>\n",
       "    <tr>\n",
       "      <th>48</th>\n",
       "      <td>03/10/2020</td>\n",
       "      <td>959.0</td>\n",
       "    </tr>\n",
       "    <tr>\n",
       "      <th>49</th>\n",
       "      <td>03/11/2020</td>\n",
       "      <td>1281.0</td>\n",
       "    </tr>\n",
       "    <tr>\n",
       "      <th>50</th>\n",
       "      <td>03/12/2020</td>\n",
       "      <td>1663.0</td>\n",
       "    </tr>\n",
       "    <tr>\n",
       "      <th>51</th>\n",
       "      <td>03/13/2020</td>\n",
       "      <td>2179.0</td>\n",
       "    </tr>\n",
       "    <tr>\n",
       "      <th>52</th>\n",
       "      <td>03/14/2020</td>\n",
       "      <td>2726.0</td>\n",
       "    </tr>\n",
       "    <tr>\n",
       "      <th>53</th>\n",
       "      <td>03/15/2020</td>\n",
       "      <td>3499.0</td>\n",
       "    </tr>\n",
       "    <tr>\n",
       "      <th>54</th>\n",
       "      <td>03/16/2020</td>\n",
       "      <td>4632.0</td>\n",
       "    </tr>\n",
       "    <tr>\n",
       "      <th>55</th>\n",
       "      <td>03/17/2020</td>\n",
       "      <td>6421.0</td>\n",
       "    </tr>\n",
       "    <tr>\n",
       "      <th>56</th>\n",
       "      <td>03/18/2020</td>\n",
       "      <td>7786.0</td>\n",
       "    </tr>\n",
       "  </tbody>\n",
       "</table>\n",
       "</div>"
      ],
      "text/plain": [
       "          Date  Confirmed US\n",
       "47  03/09/2020         605.0\n",
       "48  03/10/2020         959.0\n",
       "49  03/11/2020        1281.0\n",
       "50  03/12/2020        1663.0\n",
       "51  03/13/2020        2179.0\n",
       "52  03/14/2020        2726.0\n",
       "53  03/15/2020        3499.0\n",
       "54  03/16/2020        4632.0\n",
       "55  03/17/2020        6421.0\n",
       "56  03/18/2020        7786.0"
      ]
     },
     "execution_count": 151,
     "metadata": {},
     "output_type": "execute_result"
    }
   ],
   "source": [
    "# creating  a dataframe from query of the country\n",
    "result = data.query(query).groupby(\"Date\")[['Confirmed']].sum().reset_index()\n",
    "df = result\n",
    "# create an indeex \n",
    "df.set_index('Date')\n",
    "# rename the column to have the country name\n",
    "new_col = 'Confirmed ' + country\n",
    "df= df.rename(columns={'Confirmed':new_col})\n",
    "df.tail(10)"
   ]
  },
  {
   "cell_type": "code",
   "execution_count": 157,
   "metadata": {
    "collapsed": true
   },
   "outputs": [],
   "source": [
    "# Emmanuelle Le Nagard and Alexandre Steyer on innovation diffusion\n",
    "import math\n",
    "def model(N, a, alpha, t):\n",
    "    # we enforce N, a and alpha to be positive numbers using min and max functions\n",
    "    return max(N, 0) * (1 - math.e ** (min(-a, 0) * t)) ** max(alpha, 0)"
   ]
  },
  {
   "cell_type": "code",
   "execution_count": 153,
   "metadata": {
    "collapsed": true
   },
   "outputs": [],
   "source": [
    "# calculate the loss of the model using squared error\n",
    "def model_loss(params):\n",
    "    N, a, alpha = params\n",
    "    model_x = []\n",
    "    r = 0\n",
    "    for t in range(len(df)):\n",
    "        r += (model(N, a, alpha, t) - df.iloc[t, 1]) ** 2\n",
    "    return r "
   ]
  },
  {
   "cell_type": "code",
   "execution_count": 158,
   "metadata": {},
   "outputs": [
    {
     "data": {
      "text/plain": [
       "array([4.45329350e+06, 3.35415917e-02, 3.82871501e+01])"
      ]
     },
     "execution_count": 158,
     "metadata": {},
     "output_type": "execute_result"
    }
   ],
   "source": [
    "# optimization module\n",
    "import numpy as np\n",
    "from scipy.optimize import minimize\n",
    "opt = minimize(model_loss, x0=np.array([200000, 0.1, 15]), method='Nelder-Mead', tol=1e-5).x\n",
    "opt"
   ]
  },
  {
   "cell_type": "code",
   "execution_count": 159,
   "metadata": {},
   "outputs": [
    {
     "data": {
      "image/png": "[encoded data removed]",
      "text/plain": [
       "<Figure size 432x288 with 1 Axes>"
      ]
     },
     "metadata": {},
     "output_type": "display_data"
    }
   ],
   "source": [
    "# use entire dataset to model\n",
    "import matplotlib\n",
    "import matplotlib.pyplot as plt\n",
    "%matplotlib inline \n",
    "\n",
    "model_x = []\n",
    "for t in range(len(df)):\n",
    "    model_x.append([df.index[t], model(*opt, t)])\n",
    "model_sim = pd.DataFrame(model_x, dtype=int)\n",
    "model_sim.set_index(0, inplace=True)\n",
    "model_sim.columns = ['model']\n",
    "pd.concat([model_sim, df], axis=1).plot()\n",
    "plt.show()"
   ]
  },
  {
   "cell_type": "code",
   "execution_count": 160,
   "metadata": {},
   "outputs": [
    {
     "data": {
      "image/png": "[encoded data removed]",
      "text/plain": [
       "<Figure size 432x288 with 1 Axes>"
      ]
     },
     "metadata": {},
     "output_type": "display_data"
    }
   ],
   "source": [
    "#predict for next 100 days\n",
    "import datetime\n",
    "start = df.index[0]\n",
    "n_days = 100\n",
    "extended_model_x = []\n",
    "for t in range(n_days):\n",
    "    extended_model_x.append([start+t, model(*opt, t)])\n",
    "extended_model_sim = pd.DataFrame(extended_model_x, dtype=int)\n",
    "extended_model_sim.set_index(0, inplace=True)\n",
    "extended_model_sim.columns = ['model']\n",
    "pd.concat([extended_model_sim, df], axis=1).plot()\n",
    "plt.show()"
   ]
  },
  {
   "cell_type": "code",
   "execution_count": null,
   "metadata": {
    "collapsed": true
   },
   "outputs": [],
   "source": []
  },
  {
   "cell_type": "code",
   "execution_count": null,
   "metadata": {
    "collapsed": true
   },
   "outputs": [],
   "source": []
  }
 ],
 "metadata": {
  "kernelspec": {
   "display_name": "Python 3",
   "language": "python",
   "name": "python3"
  },
  "language_info": {
   "codemirror_mode": {
    "name": "ipython",
    "version": 3
   },
   "file_extension": ".py",
   "mimetype": "text/x-python",
   "name": "python",
   "nbconvert_exporter": "python",
   "pygments_lexer": "ipython3",
   "version": "3.6.1"
  }
 },
 "nbformat": 4,
 "nbformat_minor": 2
}
